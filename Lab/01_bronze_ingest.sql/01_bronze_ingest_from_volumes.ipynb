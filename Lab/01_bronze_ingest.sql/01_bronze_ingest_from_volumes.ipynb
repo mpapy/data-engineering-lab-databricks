{
 "cells": [
  {
   "cell_type": "code",
   "execution_count": 0,
   "metadata": {
    "application/vnd.databricks.v1+cell": {
     "cellMetadata": {
      "byteLimit": 2048000,
      "rowLimit": 10000
     },
     "inputWidgets": {},
     "nuid": "4b5358f2-dfd4-42eb-b765-367d399787fc",
     "showTitle": false,
     "tableResultSettingsMap": {},
     "title": ""
    }
   },
   "outputs": [],
   "source": [
    "%python\n",
    "# Databricks notebook source\n",
    "import dlt\n",
    "from pyspark.sql import functions as F\n",
    "\n",
    "# Set the raw path and catalog/schema\n",
    "RAW_PATH = spark.conf.get(\"raw_path\", \"/Volumes/principal_lab_dbx/landing/external_data_volume\")\n",
    "CATALOG = \"principal_lab_dbx\"\n",
    "SCHEMA = \"dev_bronze\"\n",
    "\n",
    "def full_name(table: str) -> str:\n",
    "    return f\"{CATALOG}.{SCHEMA}.{table}\"\n",
    "\n",
    "@dlt.table(name=full_name(\"agents\"), comment=\"Raw agent snapshots\")\n",
    "def agents_bronze():\n",
    "    return (\n",
    "        spark.read.format(\"csv\")\n",
    "            .option(\"header\", True)\n",
    "            .load(f\"{RAW_PATH}/agents/*.csv\")\n",
    "            .withColumn(\"ingest_file\", F.input_file_name())\n",
    "    )\n",
    "\n",
    "@dlt.table(name=full_name(\"customers\"), comment=\"Raw customer snapshots\")\n",
    "def customers_bronze():\n",
    "    return (\n",
    "        spark.read.format(\"csv\")\n",
    "            .option(\"header\", True)\n",
    "            .load(f\"{RAW_PATH}/customers/*.csv\")\n",
    "            .withColumn(\"ingest_file\", F.input_file_name())\n",
    "    )\n",
    "\n",
    "@dlt.table(name=full_name(\"policies\"), comment=\"Raw policy snapshots\")\n",
    "def policies_bronze():\n",
    "    return (\n",
    "        spark.read.format(\"csv\")\n",
    "            .option(\"header\", True)\n",
    "            .load(f\"{RAW_PATH}/policies/*.csv\")\n",
    "            .withColumn(\"ingest_file\", F.input_file_name())\n",
    "    )\n",
    "\n",
    "@dlt.table(name=full_name(\"products\"), comment=\"Reference products table\")\n",
    "def products_bronze():\n",
    "    return (\n",
    "        spark.read.format(\"csv\")\n",
    "            .option(\"header\", True)\n",
    "            .load(f\"{RAW_PATH}/products/products.csv\")\n",
    "            .withColumn(\"ingest_file\", F.input_file_name())\n",
    "    )\n",
    "\n",
    "@dlt.table(name=full_name(\"claims\"), comment=\"Claims table\")\n",
    "def claims_bronze():\n",
    "    return (\n",
    "        spark.read.format(\"csv\")\n",
    "            .option(\"header\", True)\n",
    "            .load(f\"{RAW_PATH}/claims/claims.csv\")\n",
    "            .withColumn(\"ingest_file\", F.input_file_name())\n",
    "    )"
   ]
  }
 ],
 "metadata": {
  "application/vnd.databricks.v1+notebook": {
   "computePreferences": null,
   "dashboards": [],
   "environmentMetadata": {
    "base_environment": "",
    "environment_version": "2"
   },
   "inputWidgetPreferences": null,
   "language": "sql",
   "notebookMetadata": {
    "pythonIndentUnit": 4
   },
   "notebookName": "01_bronze_ingest_from_volumes",
   "widgets": {}
  },
  "language_info": {
   "name": "sql"
  }
 },
 "nbformat": 4,
 "nbformat_minor": 0
}
