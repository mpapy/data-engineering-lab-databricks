{
 "cells": [
  {
   "cell_type": "code",
   "execution_count": 0,
   "metadata": {
    "application/vnd.databricks.v1+cell": {
     "cellMetadata": {
      "byteLimit": 2048000,
      "rowLimit": 10000
     },
     "inputWidgets": {},
     "nuid": "afb357a4-18f5-4860-b194-b7d9eea30d86",
     "showTitle": false,
     "tableResultSettingsMap": {},
     "title": ""
    }
   },
   "outputs": [],
   "source": [
    "{\n",
    "  \"name\": \"principal_lab-prod-bronze-all\",\n",
    "  \"pipeline_type\": \"WORKSPACE\",\n",
    "  \"development\": false,\n",
    "  \"continuous\": true,\n",
    "  \"channel\": \"CURRENT\",\n",
    "  \"photon\": true,\n",
    "  \"serverless\": true,\n",
    "  \"catalog\": \"principal_lab_db\",\n",
    "  \"schema\": \"prod_bronze\",\n",
    "  \"configuration\": {\n",
    "    \"pipeline.schema\": \"prod_bronze\"\n",
    "  },\n",
    "  \"libraries\": [\n",
    "    {\n",
    "      \"file\": {\n",
    "        \"path\": \"/Workspace/Repos/principal_lab_databricks@seznam.cz/data-engineering-lab-databricks/pipelines/bronze_dlt.py\"\n",
    "      }\n",
    "    }\n",
    "  ],\n",
    "  \"data_sampling\": false\n",
    "}\n"
   ]
  }
 ],
 "metadata": {
  "application/vnd.databricks.v1+notebook": {
   "computePreferences": null,
   "dashboards": [],
   "environmentMetadata": {
    "base_environment": "",
    "environment_version": "2"
   },
   "inputWidgetPreferences": null,
   "language": "python",
   "notebookMetadata": {
    "pythonIndentUnit": 4
   },
   "notebookName": "dlt_prod_bronze.json",
   "widgets": {}
  },
  "language_info": {
   "name": "python"
  }
 },
 "nbformat": 4,
 "nbformat_minor": 0
}
