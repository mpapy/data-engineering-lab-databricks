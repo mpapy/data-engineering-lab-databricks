{
 "cells": [
  {
   "cell_type": "code",
   "execution_count": 0,
   "metadata": {
    "application/vnd.databricks.v1+cell": {
     "cellMetadata": {},
     "inputWidgets": {},
     "nuid": "a5530284-2eb9-4085-b435-aa3b9e6de15e",
     "showTitle": false,
     "tableResultSettingsMap": {},
     "title": ""
    }
   },
   "outputs": [],
   "source": [
    "# KROK 1: Vytvorenie služobnej identity a tokenu\n",
    "# ÚKOL: Vytvor služobnú identitu (Service Principal) v Azure AD a generuj Personal Access Token (PAT).\n",
    "# - Prihlás sa do Azure Portal a prejdite do Azure Active Directory > App registrations.\n",
    "# - Klikni na \"New registration\" a vytvor novú aplikáciu (napr. \"PowerBI-Databricks-SP\").\n",
    "# - Po vytvorení prejdite na \"Certificates & secrets\" a pridaj nový client secret (skopíruj hodnotu).\n",
    "# - V Databricks workspace prejdite do \"User Management\" > \"Service Principals\" a pridaj služobnú identitu.\n",
    "# - Generuj PAT pre služobnú identitu v sekcii \"Access tokens\".\n",
    "\n",
    "# Príklad nastavenia:\n",
    "# - Názov aplikácie: PowerBI-Databricks-SP\n",
    "# - Client Secret: Skopíruj a ulož bezpečne (napr. \"xyz123...\").\n",
    "\n",
    "# KROK 2: Získanie pripojovacích údajov\n",
    "# ÚKOL: Získaj Server Hostname a HTTP Path z Databricks SQL Warehouse.\n",
    "# - Otvor Databricks workspace a prejdite do sekcie \"SQL\" > \"SQL Warehouses\".\n",
    "# - Vyber svoj SQL Warehouse a prejdite na kartu \"Connection details\".\n",
    "# - Skopíruj \"Server Hostname\" a \"HTTP Path\".\n",
    "\n",
    "# Príklad údajov:\n",
    "# - Server Hostname: adc-1234567890123456.7.azuredatabricks.net\n",
    "# - HTTP Path: /sql/1.0/warehouses/xxxxxx\n",
    "\n",
    "# KROK 3: Pripojenie Power BI Desktop k Databricks\n",
    "# ÚKOL: Nastav pripojenie v Power BI Desktop pomocou HTTP a PAT.\n",
    "# - Otvor Power BI Desktop a klikni na \"Get Data\" > \"More...\" > vyber \"Azure Databricks\".\n",
    "# - Vlož \"Server Hostname\" a \"HTTP Path\" z predchádzajúceho kroku.\n",
    "# - Vyber \"Personal Access Token\" ako autentifikačnú metódu, zadaj \"token\" ako používateľské meno a vlož PAT ako heslo.\n",
    "# - Klikni na \"Connect\" a vyber tabuľky na načítanie (napr. `principal_lab_db.dev_gold.agent_performance_view`).\n",
    "\n",
    "# Príklad SQL dotazu:\n",
    "# SELECT agent_id, total_premium FROM principal_lab_db.dev_gold.agent_performance_view LIMIT 10\n",
    "\n",
    "# KROK 4: Vytvorenie vizualizácií v Power BI\n",
    "# ÚKOL: Vytvor a uprav vizualizácie na dashboarde.\n",
    "# - Použi \"Visualizations\" panel na pridanie grafov (napr. stĺpcový graf pre výkon agentov).\n",
    "# - Pretiahni údaje (napr. `total_premium`, `agent_id`) do grafu a uprav osi a štýl.\n",
    "# - Pridaj ďalšie vizualizácie (napr. koláčový graf pre rozdelenie produktov).\n",
    "\n",
    "# Príklad nastavenia:\n",
    "# - Graf: Stĺpcový graf\n",
    "# - Os X: agent_id\n",
    "# - Hodnota: total_premium\n",
    "\n",
    "# KROK 5: Publikácia dashboardu do Power BI Service\n",
    "# ÚKOL: Publikuj dashboard a nastav prístupové práva.\n",
    "# - Klikni na \"Publish\" v Power BI Desktop a vyber pracovný priestor v Power BI Service.\n",
    "# - Prejdi do \"Settings\" > \"Datasets\" a nastav plánované obnovenie dát (napr. denne o 8:00 CEST).\n",
    "\n",
    "# KROK 6: Plánovanie aktualizácií dát\n",
    "# ÚKOL: Nastav automatické obnovenie dát v Power BI Service.\n",
    "# - Prejdi do \"Datasets\" v Power BI Service a vyber svoj dataset.\n",
    "# - Klikni na \"Scheduled refresh\" a nastav dennú aktualizáciu o 8:00 CEST.\n",
    "# - Uisti sa, že PAT je platný a má dostatočnú dĺžku platnosti.\n",
    "\n",
    "# Príklad nastavenia:\n",
    "# - Frekvencia: Denná\n",
    "# - Čas: 08:00 CEST\n",
    "# - Gateway (ak používaš): Nevyžaduje sa pre HTTP pripojenie\n"
   ]
  }
 ],
 "metadata": {
  "application/vnd.databricks.v1+notebook": {
   "computePreferences": null,
   "dashboards": [],
   "environmentMetadata": {
    "base_environment": "",
    "environment_version": "2"
   },
   "inputWidgetPreferences": null,
   "language": "python",
   "notebookMetadata": {
    "pythonIndentUnit": 4
   },
   "notebookName": "Power BI report",
   "widgets": {}
  },
  "language_info": {
   "name": "python"
  }
 },
 "nbformat": 4,
 "nbformat_minor": 0
}
