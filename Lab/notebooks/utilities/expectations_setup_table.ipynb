{
 "cells": [
  {
   "cell_type": "code",
   "execution_count": null,
   "metadata": {},
   "outputs": [],
   "source": [
    "# Databricks notebook source\n",
    "# ===================================================\n",
    "# LAB ÚKOL: Vytvoření očekávání (expectations) pro DLT pipeline\n",
    "# Cíl: Vytvořit tabulku s pravidly datové kvality pro různé tabulky v rámci prostředí (dev/prod)\n",
    "# ===================================================\n"
   ]
  },
  {
   "cell_type": "code",
   "execution_count": 0,
   "metadata": {
    "application/vnd.databricks.v1+cell": {
     "cellMetadata": {},
     "inputWidgets": {},
     "nuid": "51259d31-0486-4ce6-ae64-86db6919d925",
     "showTitle": false,
     "tableResultSettingsMap": {},
     "title": ""
    }
   },
   "outputs": [],
   "source": [
    "# KROK 1: Import potřebných typů\n",
    "# ÚKOL:\n",
    "# - Naimportuj StringType, IntegerType, StructType, StructField z pyspark.sql.types\n"
   ]
  },
  {
   "cell_type": "code",
   "execution_count": null,
   "metadata": {},
   "outputs": [],
   "source": [
    "# KROK 2: Definuj proměnnou prostředí\n",
    "# ÚKOL:\n",
    "# - Vytvoř proměnnou env s hodnotou \"dev\" nebo \"prod\" (nebo ji získej z widgetu)\n",
    "# env = ...\n"
   ]
  },
  {
   "cell_type": "code",
   "execution_count": null,
   "metadata": {},
   "outputs": [],
   "source": [
    "# KROK 3: Definuj seznam očekávání\n",
    "# ÚKOL:\n",
    "# - Vytvoř seznam tuple hodnot s touto strukturou:\n",
    "#   (expectation_id, table_name, expectation_name, expectation_value)\n",
    "# - Každý řádek odpovídá jednomu validačnímu pravidlu pro konkrétní tabulku\n",
    "# - Např.: (\"customers\", \"valid_income\", \"income > 0\")\n"
   ]
  },
  {
   "cell_type": "code",
   "execution_count": null,
   "metadata": {},
   "outputs": [],
   "source": [
    "# KROK 4: Vytvoř schéma tabulky expectations_setup\n",
    "# ÚKOL:\n",
    "# - Vytvoř schéma pomocí StructType a StructField se čtyřmi sloupci:\n",
    "#   expectation_id, table_name, expectation_name, expectation_value\n"
   ]
  },
  {
   "cell_type": "code",
   "execution_count": null,
   "metadata": {},
   "outputs": [],
   "source": [
    "# KROK 5: Vytvoř DataFrame z dat a schématu\n",
    "# ÚKOL:\n",
    "# - Použij spark.createDataFrame(expectation_data, schema)\n"
   ]
  },
  {
   "cell_type": "code",
   "execution_count": null,
   "metadata": {},
   "outputs": [],
   "source": [
    "# KROK 6: Zapiš výslednou tabulku jako Delta table\n",
    "# ÚKOL:\n",
    "# - Sestav název schématu jako \"config_<env>\"\n",
    "# - Vytvoř Delta tabulku v katalogu `principal_lab_db` do schématu config_<env>\n",
    "# - Tabulku ulož jako `expectations_setup` v režimu overwrite\n"
   ]
  },
  {
   "cell_type": "code",
   "execution_count": null,
   "metadata": {},
   "outputs": [],
   "source": [
    "# KROK 7: Výstupní zpráva\n",
    "# ÚKOL:\n",
    "# - Vytiskni název vytvořené tabulky, např.:\n",
    "#   \"expectation setup tabulka byla vytvořena jako principal_lab_db.config_dev.expectations_setup\"\n"
   ]
  }
 ],
 "metadata": {
  "application/vnd.databricks.v1+notebook": {
   "computePreferences": null,
   "dashboards": [],
   "environmentMetadata": {
    "base_environment": "",
    "environment_version": "2"
   },
   "inputWidgetPreferences": null,
   "language": "python",
   "notebookMetadata": {
    "pythonIndentUnit": 4
   },
   "notebookName": "expectations_setup_table",
   "widgets": {}
  },
  "language_info": {
   "name": "python"
  }
 },
 "nbformat": 4,
 "nbformat_minor": 0
}
