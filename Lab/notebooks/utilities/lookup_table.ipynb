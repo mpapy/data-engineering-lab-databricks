{
 "cells": [
  {
   "cell_type": "code",
   "execution_count": 0,
   "metadata": {
    "application/vnd.databricks.v1+cell": {
     "cellMetadata": {
      "byteLimit": 2048000,
      "implicitDf": true,
      "rowLimit": 10000
     },
     "inputWidgets": {},
     "nuid": "1cc13ee8-9e3d-40bb-8817-0e0632a40313",
     "showTitle": false,
     "tableResultSettingsMap": {},
     "title": ""
    }
   },
   "outputs": [],
   "source": [
    "%sql\n",
    "CREATE SCHEMA IF NOT EXISTS config_dev;\n",
    "CREATE SCHEMA IF NOT EXISTS config_prod;"
   ]
  },
  {
   "cell_type": "markdown",
   "metadata": {
    "application/vnd.databricks.v1+cell": {
     "cellMetadata": {},
     "inputWidgets": {},
     "nuid": "a0bd24ce-ea1e-4c85-8f15-4301726007d0",
     "showTitle": false,
     "tableResultSettingsMap": {},
     "title": ""
    }
   },
   "source": [
    "DEV"
   ]
  },
  {
   "cell_type": "code",
   "execution_count": 0,
   "metadata": {
    "application/vnd.databricks.v1+cell": {
     "cellMetadata": {
      "byteLimit": 2048000,
      "rowLimit": 10000
     },
     "inputWidgets": {},
     "nuid": "0b6138ce-fd35-484d-958b-812fecc922d5",
     "showTitle": false,
     "tableResultSettingsMap": {},
     "title": ""
    }
   },
   "outputs": [],
   "source": [
    "from pyspark.sql import functions as F\n",
    "from pyspark.sql.types import StructType, StructField, StringType, ArrayType\n",
    "\n",
    "# Zjisti prostředí: dev nebo prod\n",
    "env = 'dev'\n",
    "\n",
    "# Data pro lookup tabulku\n",
    "lookup_data = [\n",
    "    (\"dim_agents\", \"silver\", \"dimension\", [\"agent_id\"], \"SCD2\", \"Historie agentů včetně jazyků a certifikací\"),\n",
    "    (\"dim_customers\", \"silver\", \"dimension\", [\"customer_id\"], \"SCD2\", \"Klienti, jejich příjem, adresa a jazyk\"),\n",
    "    (\"dim_policies\", \"silver\", \"dimension\", [\"policy_id\"], \"SCD2\", \"Historie pojistných smluv a typy krytí\"),\n",
    "    (\"dim_products\", \"silver\", \"dimension\", [\"product_id\"], \"SCD1\", \"Statický seznam pojistných produktů\"),\n",
    "    (\"fact_claims\", \"silver\", \"fact\", [\"claim_id\", \"policy_id\"], None, \"Všechny pojistné události\"),\n",
    "    (\"fact_premium_transactions\", \"silver\", \"fact\", [\"transaction_id\", \"policy_id\"], None, \"Tok peněz z pojistného – platby a jejich stav\")\n",
    "]\n",
    "\n",
    "\n",
    "# Nastavení schématu pro lookup tabulku\n",
    "schema = StructType([\n",
    "    StructField(\"table_name\", StringType(), False),\n",
    "    StructField(\"layer\", StringType(), False),\n",
    "    StructField(\"type\", StringType(), False),\n",
    "    StructField(\"keys\", ArrayType(StringType()), False),\n",
    "    StructField(\"scd_type\", StringType(), True),\n",
    "    StructField(\"description\", StringType(), True)\n",
    "])\n",
    "\n",
    "# Vytvoření DataFrame\n",
    "df_lookup = spark.createDataFrame(lookup_data, schema)\n",
    "\n",
    "# Zápis do správného prostředí tj. bu+d dev nebo prod config!!!\n",
    "config_schema = f\"config_{env}\"\n",
    "output_path = f\"principal_lab_db.{config_schema}.table_lookup\"\n",
    "df_lookup.write.format(\"delta\").mode(\"overwrite\").saveAsTable(output_path)\n",
    "\n",
    "print(f\"Lookup tabulka byla vytvořena jako {output_path}\")\n"
   ]
  },
  {
   "cell_type": "markdown",
   "metadata": {
    "application/vnd.databricks.v1+cell": {
     "cellMetadata": {},
     "inputWidgets": {},
     "nuid": "47969a26-9292-4a43-b312-97f4c7aa7212",
     "showTitle": false,
     "tableResultSettingsMap": {},
     "title": ""
    }
   },
   "source": [
    "PROD"
   ]
  },
  {
   "cell_type": "code",
   "execution_count": 0,
   "metadata": {
    "application/vnd.databricks.v1+cell": {
     "cellMetadata": {},
     "inputWidgets": {},
     "nuid": "f87560cb-5b1b-451c-9bec-24548e9b8922",
     "showTitle": false,
     "tableResultSettingsMap": {},
     "title": ""
    }
   },
   "outputs": [],
   "source": [
    "from pyspark.sql import functions as F\n",
    "from pyspark.sql.types import StructType, StructField, StringType, ArrayType\n",
    "\n",
    "# Zjisti prostředí: dev nebo prod\n",
    "env = 'prod'\n",
    "\n",
    "# Data pro lookup tabulku\n",
    "lookup_data = [\n",
    "    (\"dim_agents\", \"silver\", \"dimension\", [\"agent_id\"], \"SCD2\", \"Historie agentů včetně jazyků a certifikací\"),\n",
    "    (\"dim_customers\", \"silver\", \"dimension\", [\"customer_id\"], \"SCD2\", \"Klienti, jejich příjem, adresa a jazyk\"),\n",
    "    (\"dim_policies\", \"silver\", \"dimension\", [\"policy_id\"], \"SCD2\", \"Historie pojistných smluv a typy krytí\"),\n",
    "    (\"dim_products\", \"silver\", \"dimension\", [\"product_id\"], \"SCD1\", \"Statický seznam pojistných produktů\"),\n",
    "    (\"fact_claims\", \"silver\", \"fact\", [\"claim_id\", \"policy_id\"], None, \"Všechny pojistné události\"),\n",
    "    (\"fact_premium_transactions\", \"silver\", \"fact\", [\"transaction_id\", \"policy_id\"], None, \"Tok peněz z pojistného – platby a jejich stav\")\n",
    "]\n",
    "\n",
    "\n",
    "# Nastavení schématu pro lookup tabulku\n",
    "schema = StructType([\n",
    "    StructField(\"table_name\", StringType(), False),\n",
    "    StructField(\"layer\", StringType(), False),\n",
    "    StructField(\"type\", StringType(), False),\n",
    "    StructField(\"keys\", ArrayType(StringType()), False),\n",
    "    StructField(\"scd_type\", StringType(), True),\n",
    "    StructField(\"description\", StringType(), True)\n",
    "])\n",
    "\n",
    "# Vytvoření DataFrame\n",
    "df_lookup = spark.createDataFrame(lookup_data, schema)\n",
    "\n",
    "# Zápis do správného prostředí tj. bu+d dev nebo prod config!!!\n",
    "config_schema = f\"config_{env}\"\n",
    "output_path = f\"principal_lab_db.{config_schema}.table_lookup\"\n",
    "df_lookup.write.format(\"delta\").mode(\"overwrite\").saveAsTable(output_path)\n",
    "\n",
    "print(f\"Lookup tabulka byla vytvořena jako {output_path}\")\n"
   ]
  }
 ],
 "metadata": {
  "application/vnd.databricks.v1+notebook": {
   "computePreferences": null,
   "dashboards": [],
   "environmentMetadata": {
    "base_environment": "",
    "environment_version": "2"
   },
   "inputWidgetPreferences": null,
   "language": "python",
   "notebookMetadata": {
    "mostRecentlyExecutedCommandWithImplicitDF": {
     "commandId": 4913416829291499,
     "dataframes": [
      "_sqldf"
     ]
    },
    "pythonIndentUnit": 4
   },
   "notebookName": "lookup_table",
   "widgets": {}
  },
  "language_info": {
   "name": "python"
  }
 },
 "nbformat": 4,
 "nbformat_minor": 0
}
