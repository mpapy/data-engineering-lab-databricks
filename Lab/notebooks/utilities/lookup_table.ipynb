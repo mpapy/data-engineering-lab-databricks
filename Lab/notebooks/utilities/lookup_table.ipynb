{
 "cells": [
  {
   "cell_type": "code",
   "execution_count": 0,
   "metadata": {
    "application/vnd.databricks.v1+cell": {
     "cellMetadata": {
      "byteLimit": 2048000,
      "implicitDf": true,
      "rowLimit": 10000
     },
     "inputWidgets": {},
     "nuid": "1cc13ee8-9e3d-40bb-8817-0e0632a40313",
     "showTitle": false,
     "tableResultSettingsMap": {},
     "title": ""
    }
   },
   "outputs": [],
   "source": [
    "# Databricks notebook source\n",
    "# ===========================================================\n",
    "# LAB ÚKOL: Definice konfigurační tabulky \"table_lookup\"\n",
    "# Cíl: Umožnit správu vrstev, typů tabulek, klíčů a SCD metod\n",
    "# ==========================================================="
   ]
  },
  {
   "cell_type": "code",
   "execution_count": null,
   "metadata": {},
   "outputs": [],
   "source": [
    "# KROK 1: Vytvoření konfiguračních schémat\n",
    "# ÚKOL:\n",
    "# - Pomocí SQL vytvoř dvě schémata: config_dev a config_prod.\n",
    "# - Použij Spark SQL příkaz v buňce níže (%sql)\n",
    "\n",
    "# %sql\n",
    "# CREATE SCHEMA IF NOT EXISTS config_dev;\n",
    "# CREATE SCHEMA IF NOT EXISTS config_prod;"
   ]
  },
  {
   "cell_type": "code",
   "execution_count": 0,
   "metadata": {
    "application/vnd.databricks.v1+cell": {
     "cellMetadata": {
      "byteLimit": 2048000,
      "rowLimit": 10000
     },
     "inputWidgets": {},
     "nuid": "0b6138ce-fd35-484d-958b-812fecc922d5",
     "showTitle": false,
     "tableResultSettingsMap": {},
     "title": ""
    }
   },
   "outputs": [],
   "source": [
    "# KROK 2: Import knihoven a nastavení prostředí\n",
    "# ÚKOL:\n",
    "# - Importuj potřebné knihovny z pyspark.sql\n",
    "# - Nastav proměnnou \"env\" na \"dev\" nebo \"prod\"\n",
    "\n",
    "# from pyspark.sql import functions as F\n",
    "# from pyspark.sql.types import StructType, StructField, StringType, ArrayType\n",
    "\n",
    "# env = \"dev\"  # Změň dle potřeby na \"prod\""
   ]
  },
  {
   "cell_type": "code",
   "execution_count": 0,
   "metadata": {
    "application/vnd.databricks.v1+cell": {
     "cellMetadata": {},
     "inputWidgets": {},
     "nuid": "f87560cb-5b1b-451c-9bec-24548e9b8922",
     "showTitle": false,
     "tableResultSettingsMap": {},
     "title": ""
    }
   },
   "outputs": [],
   "source": [
    "# KROK 3: Definice vstupních dat\n",
    "# ÚKOL:\n",
    "# - Vytvoř proměnnou `lookup_data` obsahující záznamy o tabulkách:\n",
    "#   - jméno tabulky\n",
    "#   - vrstvu (např. silver)\n",
    "#   - typ (dimension / fact)\n",
    "#   - seznam klíčů (např. [\"agent_id\"])\n",
    "#   - typ SCD (např. \"SCD1\", \"SCD2\", nebo None)\n",
    "#   - popis tabulky\n",
    "\n",
    "# lookup_data = [\n",
    "#     (\"dim_agents\", \"silver\", \"dimension\", [\"agent_id\"], \"SCD2\", \"Historie agentů včetně jazyků a certifikací\"),\n",
    "#     ...\n",
    "# ]"
   ]
  },
  {
   "cell_type": "code",
   "execution_count": null,
   "metadata": {},
   "outputs": [],
   "source": [
    "# KROK 4: Definice schématu pro tabulku\n",
    "# ÚKOL:\n",
    "# - Vytvoř schema pomocí StructType a StructField podle struktur z lookup_data\n",
    "\n",
    "# schema = StructType([\n",
    "#     StructField(\"table_name\", StringType(), False),\n",
    "#     ...\n",
    "# ])"
   ]
  },
  {
   "cell_type": "code",
   "execution_count": null,
   "metadata": {},
   "outputs": [],
   "source": [
    "# KROK 5: Vytvoření DataFrame\n",
    "# ÚKOL:\n",
    "# - Pomocí spark.createDataFrame vytvoř DataFrame `df_lookup`\n",
    "# - Použij lookup_data a schema z předchozích kroků\n",
    "\n",
    "# df_lookup = ..."
   ]
  },
  {
   "cell_type": "code",
   "execution_count": null,
   "metadata": {},
   "outputs": [],
   "source": [
    "# KROK 6: Uložení do Delta tabulky\n",
    "# ÚKOL:\n",
    "# - Vytvoř proměnnou `config_schema` ve tvaru `config_{env}`\n",
    "# - Vytvoř proměnnou `output_path` jako plný název tabulky\n",
    "# - Zapiš DataFrame jako Delta tabulku (mode = \"overwrite\")\n",
    "\n",
    "# config_schema = ...\n",
    "# output_path = ...\n",
    "# df_lookup.write.format(\"delta\").mode(\"overwrite\").saveAsTable(output_path)\n",
    "\n",
    "# print(f\"Lookup tabulka byla vytvořena jako {output_path}\")"
   ]
  }
 ],
 "metadata": {
  "application/vnd.databricks.v1+notebook": {
   "computePreferences": null,
   "dashboards": [],
   "environmentMetadata": {
    "base_environment": "",
    "environment_version": "2"
   },
   "inputWidgetPreferences": null,
   "language": "python",
   "notebookMetadata": {
    "mostRecentlyExecutedCommandWithImplicitDF": {
     "commandId": 4913416829291499,
     "dataframes": [
      "_sqldf"
     ]
    },
    "pythonIndentUnit": 4
   },
   "notebookName": "lookup_table",
   "widgets": {}
  },
  "language_info": {
   "name": "python"
  }
 },
 "nbformat": 4,
 "nbformat_minor": 0
}
