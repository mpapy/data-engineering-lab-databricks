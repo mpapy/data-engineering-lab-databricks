{
 "cells": [
  {
   "cell_type": "code",
   "execution_count": null,
   "metadata": {},
   "outputs": [],
   "source": [
    "# Databricks notebook source\n",
    "# ===================================================\n",
    "# LAB ÚKOL: Tvorba Gold pohledů a nastavení metadat\n",
    "# Cíl: Pomocí SQL vytvořit reportní Gold vrstvy nad Silver tabulkami a nastavit jejich popisy (metadata)\n",
    "# ===================================================\n"
   ]
  },
  {
   "cell_type": "code",
   "execution_count": 0,
   "metadata": {
    "application/vnd.databricks.v1+cell": {
     "cellMetadata": {
      "byteLimit": 2048000,
      "rowLimit": 10000
     },
     "inputWidgets": {},
     "nuid": "72c59f97-f3dc-451c-96e1-98ee4e31ca21",
     "showTitle": false,
     "tableResultSettingsMap": {},
     "title": ""
    }
   },
   "outputs": [],
   "source": [
    "# KROK 1: Nastavení prostředí\n",
    "# ÚKOL:\n",
    "# - Získej proměnnou `env` z widgetu \"pipeline.env\" (fallback na \"dev\", pokud neexistuje)\n",
    "# - Definuj proměnné `catalog`, `silver_schema`, `gold_schema`\n",
    "# - Nastav aktivní katalog a schéma pomocí spark.sql\n",
    "\n",
    "# from py4j.protocol import Py4JJavaError\n",
    "\n",
    "# try:\n",
    "#     env = dbutils.widgets.get(\"pipeline.env\")\n",
    "# except:\n",
    "#     env = \"dev\"\n",
    "\n",
    "# catalog = ...\n",
    "# silver_schema = ...\n",
    "# gold_schema = ...\n",
    "\n",
    "# spark.sql(...)\n",
    "# spark.sql(...)\n"
   ]
  },
  {
   "cell_type": "code",
   "execution_count": 0,
   "metadata": {
    "application/vnd.databricks.v1+cell": {
     "cellMetadata": {
      "byteLimit": 2048000,
      "rowLimit": 10000
     },
     "inputWidgets": {},
     "nuid": "c359079f-09fe-4eec-a621-1c78c676405b",
     "showTitle": false,
     "tableResultSettingsMap": {},
     "title": ""
    }
   },
   "outputs": [],
   "source": [
    "# KROK 2: Funkce pro vytvoření SQL pohledů\n",
    "# ÚKOL:\n",
    "# - Napiš funkci `run_gold_view_queries`, která:\n",
    "#   - Přijímá seznam SQL dotazů\n",
    "#   - Vypíše název view, které vytváří\n",
    "#   - V případě chyby zaloguje detail\n",
    "\n",
    "# def run_gold_view_queries(view_queries):\n",
    "#     ...\n"
   ]
  },
  {
   "cell_type": "code",
   "execution_count": 0,
   "metadata": {
    "application/vnd.databricks.v1+cell": {
     "cellMetadata": {
      "byteLimit": 2048000,
      "rowLimit": 10000
     },
     "inputWidgets": {},
     "nuid": "f8b1562b-9448-4b60-be71-b7e00305b2ae",
     "showTitle": false,
     "tableResultSettingsMap": {},
     "title": ""
    }
   },
   "outputs": [],
   "source": [
    "# KROK 3: Definuj seznam SQL dotazů pro Gold view\n",
    "# ÚKOL:\n",
    "# - Vytvoř list s názvem `gold_view_queries`\n",
    "# - Každý prvek bude SQL dotaz typu CREATE OR REPLACE VIEW\n",
    "# - Pracuj s tabulkami jako `dim_agents_mask`, `fact_claims_mask`, `dim_customers_mask` atd.\n",
    "\n",
    "# gold_view_queries = []\n",
    "\n",
    "# gold_view_queries.append(\\\"\\\"\\\"\n",
    "# CREATE OR REPLACE VIEW ...\n",
    "# \\\"\\\"\\\")\n"
   ]
  },
  {
   "cell_type": "code",
   "execution_count": 0,
   "metadata": {
    "application/vnd.databricks.v1+cell": {
     "cellMetadata": {
      "byteLimit": 2048000,
      "rowLimit": 10000
     },
     "inputWidgets": {},
     "nuid": "b73086d2-a00b-40cd-a396-b90346018de3",
     "showTitle": false,
     "tableResultSettingsMap": {},
     "title": ""
    }
   },
   "outputs": [],
   "source": [
    "# KROK 4: Spuštění tvorby Gold view\n",
    "# ÚKOL:\n",
    "# - Zavolej funkci `run_gold_view_queries` a předej jí vytvořený seznam\n",
    "\n",
    "# run_gold_view_queries(gold_view_queries)\n"
   ]
  },
  {
   "cell_type": "code",
   "execution_count": 0,
   "metadata": {
    "application/vnd.databricks.v1+cell": {
     "cellMetadata": {
      "byteLimit": 2048000,
      "rowLimit": 10000
     },
     "inputWidgets": {},
     "nuid": "f7d3eb25-a51c-4032-861a-ab2f6f8e60ae",
     "showTitle": false,
     "tableResultSettingsMap": {},
     "title": ""
    }
   },
   "outputs": [],
   "source": [
    "# KROK 5: Nastavení metadat pro Gold pohledy\n",
    "# ÚKOL:\n",
    "# - Napiš funkci `apply_gold_metadata()`, která:\n",
    "#   - Iteruje přes slovník názvů view a jejich komentářů\n",
    "#   - Nastaví popis pomocí ALTER VIEW ... SET TBLPROPERTIES ('comment' = ...)\n",
    "\n",
    "# def apply_gold_metadata():\n",
    "#     metadata_updates = {\n",
    "#         \"agent_performance_view\": {\n",
    "#             \"comment\": \"Shrnutí výkonnosti agentů: počet smluv, výše pojistného, počet škod.\",\n",
    "#         },\n",
    "#         ...\n",
    "#     }\n",
    "\n",
    "#     for view_name, meta in metadata_updates.items():\n",
    "#         ...\n"
   ]
  },
  {
   "cell_type": "code",
   "execution_count": 0,
   "metadata": {
    "application/vnd.databricks.v1+cell": {
     "cellMetadata": {},
     "inputWidgets": {},
     "nuid": "9e4161f6-245e-4c37-85d5-47c7b65412fd",
     "showTitle": false,
     "tableResultSettingsMap": {},
     "title": ""
    }
   },
   "outputs": [],
   "source": [
    "# KROK 6: Spuštění nastavení metadat\n",
    "# ÚKOL:\n",
    "# - Zavolej funkci `apply_gold_metadata()` po vytvoření všech view\n",
    "\n",
    "# apply_gold_metadata()\n"
   ]
  }
 ],
 "metadata": {
  "application/vnd.databricks.v1+notebook": {
   "computePreferences": null,
   "dashboards": [],
   "environmentMetadata": {
    "base_environment": "",
    "environment_version": "2"
   },
   "inputWidgetPreferences": null,
   "language": "python",
   "notebookMetadata": {
    "mostRecentlyExecutedCommandWithImplicitDF": {
     "commandId": 4953240151901354,
     "dataframes": [
      "_sqldf"
     ]
    },
    "pythonIndentUnit": 4
   },
   "notebookName": "gold_dlt",
   "widgets": {}
  },
  "language_info": {
   "name": "python"
  }
 },
 "nbformat": 4,
 "nbformat_minor": 0
}
