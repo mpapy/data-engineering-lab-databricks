{
 "cells": [
  {
   "cell_type": "markdown",
   "metadata": {
    "application/vnd.databricks.v1+cell": {
     "cellMetadata": {},
     "inputWidgets": {},
     "nuid": "8b3bd9ec-cd29-4986-b94d-9e1bd3ca683f",
     "showTitle": false,
     "tableResultSettingsMap": {},
     "title": ""
    }
   },
   "source": [
    "## **Create volume**"
   ]
  },
  {
   "cell_type": "code",
   "execution_count": 0,
   "metadata": {
    "application/vnd.databricks.v1+cell": {
     "cellMetadata": {},
     "inputWidgets": {},
     "nuid": "c9c9165b-d36d-4795-bd8e-2ad18ec4aa17",
     "showTitle": false,
     "tableResultSettingsMap": {},
     "title": ""
    }
   },
   "outputs": [],
   "source": [
    "# KROK 1: OVĚŘENÍ OBSAHU LANDING SLOŽKY\n",
    "# registrace externího volume a připravit volume pro přístup k datům\n",
    "# ÚKOL:\n",
    "# - Použij příkaz %fs ls k zobrazení obsahu složky:\n",
    "#   abfss://principaldatalab@principallabdl.dfs.core.windows.net/landing\n",
    "\n",
    "# %fs ls 'abfss://principaldatalab@principallabdl.dfs.core.windows.net/landing'"
   ]
  },
  {
   "cell_type": "code",
   "execution_count": 0,
   "metadata": {
    "application/vnd.databricks.v1+cell": {
     "cellMetadata": {},
     "inputWidgets": {},
     "nuid": "cabf6a56-d191-4d04-a9c7-f63742d7552e",
     "showTitle": false,
     "tableResultSettingsMap": {},
     "title": ""
    }
   },
   "outputs": [],
   "source": [
    "# hint: https://docs.databricks.com/aws/en/sql/language-manual/sql-ref-syntax-ddl-create-volume"
   ]
  }
 ],
 "metadata": {
  "application/vnd.databricks.v1+notebook": {
   "computePreferences": null,
   "dashboards": [],
   "environmentMetadata": {
    "base_environment": "",
    "environment_version": "2"
   },
   "inputWidgetPreferences": null,
   "language": "python",
   "notebookMetadata": {
    "pythonIndentUnit": 4
   },
   "notebookName": "create_volume",
   "widgets": {}
  },
  "language_info": {
   "name": "python"
  }
 },
 "nbformat": 4,
 "nbformat_minor": 0
}
