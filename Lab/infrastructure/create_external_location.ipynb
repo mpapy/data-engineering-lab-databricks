{
 "cells": [
  {
   "cell_type": "code",
   "execution_count": 0,
   "metadata": {
    "application/vnd.databricks.v1+cell": {
     "cellMetadata": {
      "byteLimit": 2048000,
      "rowLimit": 10000
     },
     "inputWidgets": {},
     "nuid": "ffca49ac-cbbb-443b-8ebd-eac624ec1143",
     "showTitle": false,
     "tableResultSettingsMap": {},
     "title": ""
    }
   },
   "outputs": [],
   "source": [
    "# Databricks notebook source\n",
    "# ===========================================================\n",
    "# LAB ÚKOL: Vytvoření External Location pro přístup k ADLS\n",
    "# Cíl: Ověřit přístup k datům a vytvořit External Location\n",
    "# ==========================================================="
   ]
  },
  {
   "cell_type": "code",
   "execution_count": 0,
   "metadata": {
    "application/vnd.databricks.v1+cell": {
     "cellMetadata": {},
     "inputWidgets": {},
     "nuid": "515f6d3a-4e1f-42da-81e4-46176db5c0a6",
     "showTitle": false,
     "tableResultSettingsMap": {},
     "title": ""
    }
   },
   "outputs": [],
   "source": [
    "# KROK 1: OVĚŘENÍ PŘÍSTUPU K LANDING SLOŽCE\n",
    "# ÚKOL:\n",
    "# - Pomocí `dbutils.fs.ls()` ověř, že landing složka existuje\n",
    "# - Zjisti, jestli obsahuje nějaké soubory nebo podsložky\n",
    "\n",
    "# landing_path = 'abfss://principaldatalab@principallabdl.dfs.core.windows.net/landing'\n",
    "# files = ...\n",
    "# display(files)"
   ]
  },
  {
   "cell_type": "code",
   "execution_count": 0,
   "metadata": {
    "application/vnd.databricks.v1+cell": {
     "cellMetadata": {
      "byteLimit": 2048000,
      "implicitDf": true,
      "rowLimit": 10000
     },
     "inputWidgets": {},
     "nuid": "f79e2a84-dcc4-4701-aca4-7712beadac02",
     "showTitle": false,
     "tableResultSettingsMap": {},
     "title": ""
    }
   },
   "outputs": [],
   "source": [
    "# KROK 2: VYTVOŘENÍ EXTERNAL LOCATION\n",
    "# ÚKOL:\n",
    "# - Pomocí `spark.sql()` vytvoř external location s následujícími parametry:\n",
    "#   • Název: principal_lab_dl_landing\n",
    "#   • URL: abfss://principaldatalab@principallabdl.dfs.core.windows.net/\n",
    "#   • STORAGE CREDENTIAL: principal_lab_ext_sc\n",
    "#   • Komentář: \"External Location for Volumes\"\n",
    "\n",
    "# spark.sql(f\\\"\"\" \n",
    "# CREATE EXTERNAL LOCATION IF NOT EXISTS ...\n",
    "# \\\"\"\")\n",
    "\n",
    "# POZNÁMKA:\n",
    "# Storage credential musí být předem vytvořený a mít správná oprávnění ke kontejneru v ADLS.\n",
    "\n",
    "# COMMAND ----------"
   ]
  },
  {
   "cell_type": "code",
   "execution_count": 0,
   "metadata": {
    "application/vnd.databricks.v1+cell": {
     "cellMetadata": {},
     "inputWidgets": {},
     "nuid": "428e5c0a-c971-431d-a66c-e12845a18568",
     "showTitle": false,
     "tableResultSettingsMap": {},
     "title": ""
    }
   },
   "outputs": [],
   "source": [
    "# KROK 3:\n",
    "# ÚKOL (teoreticky):\n",
    "# - Vysvětli, co je `EXTERNAL LOCATION` a proč je důležitá v Unity Catalogu\n",
    "# - Jaký je rozdíl mezi EXTERNAL LOCATION a EXTERNAL VOLUME?\n",
    "\n",
    "# Odpověz ústně nebo napiš krátké shrnutí do komentáře:\n",
    "# \"\"\"\n",
    "# ...\n",
    "# \"\"\""
   ]
  }
 ],
 "metadata": {
  "application/vnd.databricks.v1+notebook": {
   "computePreferences": null,
   "dashboards": [],
   "environmentMetadata": {
    "base_environment": "",
    "environment_version": "2"
   },
   "inputWidgetPreferences": null,
   "language": "python",
   "notebookMetadata": {
    "mostRecentlyExecutedCommandWithImplicitDF": {
     "commandId": 5405821119526671,
     "dataframes": [
      "_sqldf"
     ]
    },
    "pythonIndentUnit": 4
   },
   "notebookName": "create_external_location",
   "widgets": {}
  },
  "language_info": {
   "name": "python"
  }
 },
 "nbformat": 4,
 "nbformat_minor": 0
}
