{
 "cells": [
  {
   "cell_type": "code",
   "execution_count": 0,
   "metadata": {
    "application/vnd.databricks.v1+cell": {
     "cellMetadata": {},
     "inputWidgets": {},
     "nuid": "0aa6679d-ec1e-4335-b72e-0b7a8b239032",
     "showTitle": false,
     "tableResultSettingsMap": {},
     "title": ""
    }
   },
   "outputs": [],
   "source": [
    "# Databricks notebook source\n",
    "# ===========================================================\n",
    "# LAB ÚKOL: Vytvoření schémat\n",
    "# Cíl: Vytvořit potřebné schéma struktury pro dev/prod\n",
    "# ==========================================================="
   ]
  },
  {
   "cell_type": "markdown",
   "metadata": {
    "application/vnd.databricks.v1+cell": {
     "cellMetadata": {},
     "inputWidgets": {},
     "nuid": "5059cc73-6a9f-463b-ba80-5d6d86684761",
     "showTitle": false,
     "tableResultSettingsMap": {},
     "title": ""
    }
   },
   "source": [
    "## Create schemas/databases for BRONZE/SILVER/GOLD layers!"
   ]
  },
  {
   "cell_type": "code",
   "execution_count": 0,
   "metadata": {
    "application/vnd.databricks.v1+cell": {
     "cellMetadata": {
      "byteLimit": 2048000,
      "implicitDf": true,
      "rowLimit": 10000
     },
     "inputWidgets": {},
     "nuid": "950930d8-f9a7-4604-9d28-fbaa3c29e94a",
     "showTitle": false,
     "tableResultSettingsMap": {},
     "title": ""
    }
   },
   "outputs": [],
   "source": [
    "# KROK 1: VYTVOŘ KATALOG A SCHÉMATA\n",
    "# ÚKOL:\n",
    "# - Pomocí SQL vytvoř katalog (pokud ještě není vytvořený v UI)\n",
    "# - Vytvoř následující schémata:\n",
    "#   - landing\n",
    "#   - dev_bronze, dev_silver, dev_gold\n",
    "#   - prod_bronze, prod_silver, prod_gold\n",
    "\n",
    "# %sql\n",
    "# CREATE SCHEMA IF NOT EXISTS ..."
   ]
  }
 ],
 "metadata": {
  "application/vnd.databricks.v1+notebook": {
   "computePreferences": null,
   "dashboards": [],
   "environmentMetadata": {
    "base_environment": "",
    "environment_version": "2"
   },
   "inputWidgetPreferences": null,
   "language": "python",
   "notebookMetadata": {
    "mostRecentlyExecutedCommandWithImplicitDF": {
     "commandId": 5637402806099310,
     "dataframes": [
      "_sqldf"
     ]
    },
    "pythonIndentUnit": 4
   },
   "notebookName": "create_schema",
   "widgets": {}
  },
  "language_info": {
   "name": "python"
  }
 },
 "nbformat": 4,
 "nbformat_minor": 0
}
