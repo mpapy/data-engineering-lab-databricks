{
 "cells": [
  {
   "cell_type": "code",
   "execution_count": null,
   "metadata": {},
   "outputs": [],
   "source": [
    "# Databricks notebook source\n",
    "# ===========================================================\n",
    "# LAB ÚKOL: Vytvoření schémat a registrace externího volume\n",
    "# Cíl: Vytvořit potřebné schéma struktury pro dev/prod a připravit volume pro přístup k datům\n",
    "# ==========================================================="
   ]
  },
  {
   "cell_type": "markdown",
   "metadata": {
    "application/vnd.databricks.v1+cell": {
     "cellMetadata": {},
     "inputWidgets": {},
     "nuid": "5059cc73-6a9f-463b-ba80-5d6d86684761",
     "showTitle": false,
     "tableResultSettingsMap": {},
     "title": ""
    }
   },
   "source": [
    "## Create schemas/databases for BRONZE/SILVER/GOLD layers!"
   ]
  },
  {
   "cell_type": "code",
   "execution_count": 0,
   "metadata": {
    "application/vnd.databricks.v1+cell": {
     "cellMetadata": {
      "byteLimit": 2048000,
      "implicitDf": true,
      "rowLimit": 10000
     },
     "inputWidgets": {},
     "nuid": "950930d8-f9a7-4604-9d28-fbaa3c29e94a",
     "showTitle": false,
     "tableResultSettingsMap": {},
     "title": ""
    }
   },
   "outputs": [],
   "source": [
    "# KROK 1: VYTVOŘ KATALOG A SCHÉMATA\n",
    "# ÚKOL:\n",
    "# - Pomocí SQL vytvoř katalog (pokud ještě není vytvořený v UI)\n",
    "# - Vytvoř následující schémata:\n",
    "#   - landing\n",
    "#   - dev_bronze, dev_silver, dev_gold\n",
    "#   - prod_bronze, prod_silver, prod_gold\n",
    "\n",
    "# %sql\n",
    "# CREATE SCHEMA IF NOT EXISTS ..."
   ]
  },
  {
   "cell_type": "markdown",
   "metadata": {
    "application/vnd.databricks.v1+cell": {
     "cellMetadata": {},
     "inputWidgets": {},
     "nuid": "d9044b55-cb33-458b-98df-e0bf4a451846",
     "showTitle": false,
     "tableResultSettingsMap": {},
     "title": ""
    }
   },
   "source": [
    "## **Create volume**"
   ]
  },
  {
   "cell_type": "code",
   "execution_count": 0,
   "metadata": {
    "application/vnd.databricks.v1+cell": {
     "cellMetadata": {
      "byteLimit": 2048000,
      "rowLimit": 10000
     },
     "inputWidgets": {},
     "nuid": "3372e335-9ff2-4dc5-8d51-76b2d2ed08fd",
     "showTitle": false,
     "tableResultSettingsMap": {},
     "title": ""
    }
   },
   "outputs": [],
   "source": [
    "# KROK 2: OVĚŘENÍ OBSAHU LANDING SLOŽKY\n",
    "# ÚKOL:\n",
    "# - Použij příkaz %fs ls k zobrazení obsahu složky:\n",
    "#   abfss://principaldatalab@principallabdl.dfs.core.windows.net/landing\n",
    "\n",
    "# %fs ls 'abfss://principaldatalab@principallabdl.dfs.core.windows.net/landing'"
   ]
  }
 ],
 "metadata": {
  "application/vnd.databricks.v1+notebook": {
   "computePreferences": null,
   "dashboards": [],
   "environmentMetadata": {
    "base_environment": "",
    "environment_version": "2"
   },
   "inputWidgetPreferences": null,
   "language": "python",
   "notebookMetadata": {
    "mostRecentlyExecutedCommandWithImplicitDF": {
     "commandId": 5637402806099310,
     "dataframes": [
      "_sqldf"
     ]
    },
    "pythonIndentUnit": 4
   },
   "notebookName": "create_schema",
   "widgets": {}
  },
  "language_info": {
   "name": "python"
  }
 },
 "nbformat": 4,
 "nbformat_minor": 0
}
