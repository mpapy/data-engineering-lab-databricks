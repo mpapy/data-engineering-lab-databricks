{
 "cells": [
  {
   "cell_type": "code",
   "execution_count": 0,
   "metadata": {
    "application/vnd.databricks.v1+cell": {
     "cellMetadata": {
      "byteLimit": 2048000,
      "rowLimit": 10000
     },
     "inputWidgets": {},
     "nuid": "afb357a4-18f5-4860-b194-b7d9eea30d86",
     "showTitle": false,
     "tableResultSettingsMap": {},
     "title": ""
    }
   },
   "outputs": [],
   "source": [
    "{\n",
    "    \"id\": \"664d52df-6f2f-4613-ac2b-73e0fd79922d\",\n",
    "    \"pipeline_type\": \"WORKSPACE\",\n",
    "    \"development\": true,\n",
    "    \"notifications\": [\n",
    "        {\n",
    "            \"email_recipients\": [\n",
    "                \"ondrej.mikulec@principal.cz\"\n",
    "            ],\n",
    "            \"alerts\": [\n",
    "                \"on-update-fatal-failure\",\n",
    "                \"on-update-failure\",\n",
    "                \"on-flow-failure\"\n",
    "            ]\n",
    "        }\n",
    "    ],\n",
    "    \"continuous\": false,\n",
    "    \"channel\": \"CURRENT\",\n",
    "    \"photon\": true,\n",
    "    \"libraries\": [\n",
    "        {\n",
    "            \"notebook\": {\n",
    "                \"path\": \"/Repos/lab_prod/data-engineering-lab-databricks/pipelines/bronze_dlt\"\n",
    "            }\n",
    "        },\n",
    "        {\n",
    "            \"notebook\": {\n",
    "                \"path\": \"/Repos/lab_prod/data-engineering-lab-databricks/pipelines/silver_dlt\"\n",
    "            }\n",
    "        }\n",
    "    ],\n",
    "    \"name\": \"principal_lab-prod-bronze_silver-pipeline\",\n",
    "    \"serverless\": true,\n",
    "    \"catalog\": \"principal_lab_db\",\n",
    "    \"configuration\": {\n",
    "        \"pipeline.env\": \"prod\"\n",
    "    },\n",
    "    \"tags\": [\n",
    "        {\n",
    "            \"key\": \"enviroment\",\n",
    "            \"value\": \"prod\"\n",
    "        },\n",
    "        {\n",
    "            \"key\": \"department\",\n",
    "            \"value\": \"lab\"\n",
    "        },\n",
    "        {\n",
    "            \"key\": \"feature\",\n",
    "            \"value\": \"dlt_pipeline\"\n",
    "        }\n",
    "    ],\n",
    "    \"schema\": \"prod_bronze\"\n",
    "}"
   ]
  }
 ],
 "metadata": {
  "application/vnd.databricks.v1+notebook": {
   "computePreferences": null,
   "dashboards": [],
   "environmentMetadata": {
    "base_environment": "",
    "environment_version": "2"
   },
   "inputWidgetPreferences": null,
   "language": "python",
   "notebookMetadata": {
    "pythonIndentUnit": 4
   },
   "notebookName": "dlt_prod_bronze_silver.json",
   "widgets": {}
  },
  "language_info": {
   "name": "python"
  }
 },
 "nbformat": 4,
 "nbformat_minor": 0
}
