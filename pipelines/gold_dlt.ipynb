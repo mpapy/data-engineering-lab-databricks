{
 "cells": [
  {
   "cell_type": "code",
   "execution_count": 0,
   "metadata": {
    "application/vnd.databricks.v1+cell": {
     "cellMetadata": {
      "byteLimit": 2048000,
      "rowLimit": 10000
     },
     "inputWidgets": {},
     "nuid": "c359079f-09fe-4eec-a621-1c78c676405b",
     "showTitle": false,
     "tableResultSettingsMap": {},
     "title": ""
    }
   },
   "outputs": [],
   "source": [
    "# ——————————————————————————————\n",
    "#  COMMON SETUP\n",
    "# ——————————————————————————————\n",
    "env = 'test_marek'\n",
    "#env = spark.conf.get(\"pipeline.env\", \"dev\") \n",
    "catalog = \"principal_lab_db\"\n",
    "silver_schema = f\"{env}_silver\"\n",
    "gold_schema = f\"{env}_gold\"\n",
    "\n",
    "# Katalog\n",
    "spark.sql(f\"USE CATALOG {catalog}\")\n",
    "spark.sql(f\"USE SCHEMA {silver_schema}\")"
   ]
  },
  {
   "cell_type": "code",
   "execution_count": 0,
   "metadata": {
    "application/vnd.databricks.v1+cell": {
     "cellMetadata": {
      "byteLimit": 2048000,
      "rowLimit": 10000
     },
     "inputWidgets": {},
     "nuid": "b73086d2-a00b-40cd-a396-b90346018de3",
     "showTitle": false,
     "tableResultSettingsMap": {},
     "title": ""
    }
   },
   "outputs": [],
   "source": [
    "# ——————————————————————————————\n",
    "#  CREATE GOLD VIEW\n",
    "# ——————————————————————————————\n",
    "gold_view_sql = f\"\"\"\n",
    "CREATE OR REPLACE VIEW {catalog}.{gold_schema}.agent_performance_view AS\n",
    "SELECT\n",
    "    a.agent_id,\n",
    "    a.first_name,\n",
    "    a.last_name,\n",
    "    COUNT(DISTINCT p.policy_id) AS num_policies,\n",
    "    ROUND(SUM(pt.premium_amount), 2) AS total_premium,\n",
    "    COUNT(DISTINCT c.claim_id) AS num_claims,\n",
    "    ROUND(SUM(c.amount), 2) AS total_claim_amount\n",
    "FROM {catalog}.{silver_schema}.dim_agents a\n",
    "LEFT JOIN {catalog}.{silver_schema}.dim_policies p USING (agent_id)\n",
    "LEFT JOIN {catalog}.{silver_schema}.fact_premium_transactions pt USING (policy_id)\n",
    "LEFT JOIN {catalog}.{silver_schema}.fact_claims c USING (policy_id)\n",
    "GROUP BY a.agent_id, a.first_name, a.last_name\n",
    "\"\"\"\n",
    "\n"
   ]
  },
  {
   "cell_type": "code",
   "execution_count": 0,
   "metadata": {
    "application/vnd.databricks.v1+cell": {
     "cellMetadata": {
      "byteLimit": 2048000,
      "rowLimit": 10000
     },
     "inputWidgets": {},
     "nuid": "f7d3eb25-a51c-4032-861a-ab2f6f8e60ae",
     "showTitle": false,
     "tableResultSettingsMap": {},
     "title": ""
    }
   },
   "outputs": [],
   "source": [
    "#spusť sql viewčka\n",
    "spark.sql(gold_view_sql)"
   ]
  }
 ],
 "metadata": {
  "application/vnd.databricks.v1+notebook": {
   "computePreferences": null,
   "dashboards": [],
   "environmentMetadata": {
    "base_environment": "",
    "environment_version": "2"
   },
   "inputWidgetPreferences": null,
   "language": "python",
   "notebookMetadata": {
    "mostRecentlyExecutedCommandWithImplicitDF": {
     "commandId": 8826714355777820,
     "dataframes": [
      "_sqldf"
     ]
    },
    "pythonIndentUnit": 4
   },
   "notebookName": "gold_dlt",
   "widgets": {}
  },
  "language_info": {
   "name": "python"
  }
 },
 "nbformat": 4,
 "nbformat_minor": 0
}
