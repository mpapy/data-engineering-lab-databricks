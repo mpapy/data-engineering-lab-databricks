{
 "cells": [
  {
   "cell_type": "code",
   "execution_count": 0,
   "metadata": {
    "application/vnd.databricks.v1+cell": {
     "cellMetadata": {
      "byteLimit": 2048000,
      "implicitDf": true,
      "rowLimit": 10000
     },
     "inputWidgets": {},
     "nuid": "a3c49ca7-5f6c-4088-a8d8-086039303bb9",
     "showTitle": false,
     "tableResultSettingsMap": {},
     "title": ""
    }
   },
   "outputs": [],
   "source": [
    "%sql\n",
    "CREATE OR REPLACE VIEW principal_lab_db.dev_gold.agent_performance_view AS\n",
    "SELECT\n",
    "    a.agent_id,\n",
    "    a.first_name,\n",
    "    a.last_name,\n",
    "    COUNT(DISTINCT p.policy_id) AS num_policies,\n",
    "    ROUND(SUM(pt.premium_amount), 2) AS total_premium,\n",
    "    COUNT(DISTINCT c.claim_id) AS num_claims,\n",
    "    ROUND(SUM(c.amount), 2) AS total_claim_amount\n",
    "FROM principal_lab_db.test_marek_silver.dim_agents a\n",
    "LEFT JOIN principal_lab_db.test_marek_silver.dim_policies p USING (agent_id)\n",
    "LEFT JOIN principal_lab_db.test_marek_silver.fact_premium_transactions pt USING (policy_id)\n",
    "LEFT JOIN principal_lab_db.test_marek_silver.fact_claims c USING (policy_id)\n",
    "GROUP BY a.agent_id, a.first_name, a.last_name;\n"
   ]
  },
  {
   "cell_type": "code",
   "execution_count": 0,
   "metadata": {
    "application/vnd.databricks.v1+cell": {
     "cellMetadata": {
      "byteLimit": 2048000,
      "implicitDf": true,
      "rowLimit": 10000
     },
     "inputWidgets": {},
     "nuid": "adbea9b4-2f1d-4bad-80e3-50860c0b8f44",
     "showTitle": false,
     "tableResultSettingsMap": {},
     "title": ""
    }
   },
   "outputs": [],
   "source": [
    "%sql\n",
    "select * from principal_lab_db.dev_gold.agent_performance_view"
   ]
  }
 ],
 "metadata": {
  "application/vnd.databricks.v1+notebook": {
   "computePreferences": null,
   "dashboards": [],
   "environmentMetadata": {
    "base_environment": "",
    "environment_version": "2"
   },
   "inputWidgetPreferences": null,
   "language": "python",
   "notebookMetadata": {
    "mostRecentlyExecutedCommandWithImplicitDF": {
     "commandId": 5661883277725081,
     "dataframes": [
      "_sqldf"
     ]
    },
    "pythonIndentUnit": 4
   },
   "notebookName": "gold_dlt",
   "widgets": {}
  },
  "language_info": {
   "name": "python"
  }
 },
 "nbformat": 4,
 "nbformat_minor": 0
}
