{
 "cells": [
  {
   "cell_type": "code",
   "execution_count": 0,
   "metadata": {
    "application/vnd.databricks.v1+cell": {
     "cellMetadata": {
      "byteLimit": 2048000,
      "rowLimit": 10000
     },
     "inputWidgets": {},
     "nuid": "72c59f97-f3dc-451c-96e1-98ee4e31ca21",
     "showTitle": false,
     "tableResultSettingsMap": {},
     "title": ""
    }
   },
   "outputs": [],
   "source": [
    "# import\n",
    "from py4j.protocol import Py4JJavaError"
   ]
  },
  {
   "cell_type": "code",
   "execution_count": 0,
   "metadata": {
    "application/vnd.databricks.v1+cell": {
     "cellMetadata": {
      "byteLimit": 2048000,
      "rowLimit": 10000
     },
     "inputWidgets": {},
     "nuid": "c359079f-09fe-4eec-a621-1c78c676405b",
     "showTitle": false,
     "tableResultSettingsMap": {},
     "title": ""
    }
   },
   "outputs": [],
   "source": [
    "# ——————————————————————————————\n",
    "#  COMMON SETUP (pro všechny notebooky)\n",
    "# ——————————————————————————————\n",
    "try:\n",
    "    env = dbutils.widgets.get(\"pipeline.env\")\n",
    "except:\n",
    "    env = \"dev\"\n",
    "\n",
    "catalog = \"principal_lab_db\"\n",
    "silver_schema = f\"{env}_silver\"\n",
    "gold_schema = f\"{env}_gold\"\n",
    "\n",
    "# Katalog\n",
    "spark.sql(f\"USE CATALOG {catalog}\")\n",
    "spark.sql(f\"USE SCHEMA {silver_schema}\")"
   ]
  },
  {
   "cell_type": "code",
   "execution_count": 0,
   "metadata": {
    "application/vnd.databricks.v1+cell": {
     "cellMetadata": {
      "byteLimit": 2048000,
      "rowLimit": 10000
     },
     "inputWidgets": {},
     "nuid": "f8b1562b-9448-4b60-be71-b7e00305b2ae",
     "showTitle": false,
     "tableResultSettingsMap": {},
     "title": ""
    }
   },
   "outputs": [],
   "source": [
    "# Funkce pro logování\n",
    "\n",
    "def run_gold_view_queries(view_queries):\n",
    "    for i, query in enumerate(view_queries):\n",
    "        try:\n",
    "            # Získání názvu view\n",
    "            view_name = query.split(\"VIEW\")[1].split(\"AS\")[0].strip()\n",
    "            print(f\"[{i+1}/{len(view_queries)}] Vytvářím view: {view_name}\")\n",
    "\n",
    "            # Spuštění\n",
    "            spark.sql(query)\n",
    "\n",
    "            print(f\"View '{view_name}' bylo úspěšně vytvořeno.\\n\")\n",
    "\n",
    "        except Py4JJavaError as e:\n",
    "            msg = e.java_exception.getMessage()\n",
    "            print(f\"Chyba při vytváření view '{view_name}': {msg}\\n\")\n",
    "\n",
    "        except Exception as e:\n",
    "            print(f\"Chyba u view '{view_name}': {str(e)}\\n\")"
   ]
  },
  {
   "cell_type": "code",
   "execution_count": 0,
   "metadata": {
    "application/vnd.databricks.v1+cell": {
     "cellMetadata": {
      "byteLimit": 2048000,
      "rowLimit": 10000
     },
     "inputWidgets": {},
     "nuid": "b73086d2-a00b-40cd-a396-b90346018de3",
     "showTitle": false,
     "tableResultSettingsMap": {},
     "title": ""
    }
   },
   "outputs": [],
   "source": [
    "# ——————————————————————————————\n",
    "#  CREATE GOLD VIEW\n",
    "# ——————————————————————————————\n",
    "gold_view_queries = []\n",
    "\n",
    "# agent_performance_view\n",
    "gold_view_queries.append(f\"\"\"\n",
    "CREATE OR REPLACE VIEW {catalog}.{gold_schema}.agent_performance_view AS\n",
    "SELECT\n",
    "    a.agent_id,\n",
    "    a.first_name,\n",
    "    a.last_name,\n",
    "    COUNT(DISTINCT p.policy_id) AS num_policies,\n",
    "    ROUND(SUM(pt.premium_amount), 2) AS total_premium,\n",
    "    COUNT(DISTINCT c.claim_id) AS num_claims,\n",
    "    ROUND(SUM(c.amount), 2) AS total_claim_amount\n",
    "FROM {catalog}.{silver_schema}.dim_agents_mask a\n",
    "LEFT JOIN {catalog}.{silver_schema}.dim_policies_mask p USING (agent_id)\n",
    "LEFT JOIN {catalog}.{silver_schema}.fact_premium_transactions_mask pt USING (policy_id)\n",
    "LEFT JOIN {catalog}.{silver_schema}.fact_claims_mask c USING (policy_id)\n",
    "GROUP BY a.agent_id, a.first_name, a.last_name\n",
    "\"\"\")\n",
    "\n",
    "# agen_language_distribution\n",
    "gold_view_queries.append(f\"\"\"\n",
    "CREATE OR REPLACE VIEW {catalog}.{gold_schema}.agent_language_distribution AS\n",
    "SELECT\n",
    "  lang AS language_code,\n",
    "  COUNT(DISTINCT agent_id) AS num_agents\n",
    "FROM {catalog}.{silver_schema}.dim_agents_mask\n",
    "LATERAL VIEW explode(languages) AS lang\n",
    "GROUP BY lang\n",
    "ORDER BY num_agents DESC\n",
    "\"\"\")\n",
    "\n",
    "# customer_income_distribution\n",
    "gold_view_queries.append(f\"\"\"\n",
    "create or replace view {catalog}.{gold_schema}.customer_income_distribution AS\n",
    "select  \n",
    "first_name\n",
    ", last_name\n",
    ", email\n",
    ", address\n",
    ", sum(income) as income\n",
    ", case \n",
    "    when sum(income) < 250000 then 'low'\n",
    "    when sum(income) < 1000000 then 'medium'\n",
    "    else 'high' \n",
    "    end as income_level\n",
    "from {catalog}.{gold_schema}.dim_customers_mask\n",
    "where `__END_AT` is null\n",
    "group by all\n",
    "order by income desc\n",
    "\"\"\")\n",
    "\n",
    "# agents_with_flagged_payments\n",
    "gold_view_queries.append(f\"\"\"\n",
    "create or replace view {catalog}.{gold_schema}.agents_with_flagged_payments AS\n",
    "with agent as (\n",
    "    select\n",
    "        agent_id\n",
    "        , payment_date\n",
    "        , count(*) as payment_count\n",
    "    from {catalog}.{gold_schema}.fact_premium_transactions_mask\n",
    "    where paid_flag = true\n",
    "      and payment_date is not null\n",
    "    group by agent_id, payment_date\n",
    "),\n",
    "\n",
    "avg_payment as (\n",
    "    select\n",
    "        payment_date\n",
    "        , avg(payment_count) as avg_cnt\n",
    "    from agent\n",
    "    group by payment_date\n",
    "),\n",
    "\n",
    "flagged_payments as (\n",
    "    select \n",
    "        fpt.agent_id\n",
    "        , count(*) as payment_count\n",
    "        , ap.avg_cnt\n",
    "        , 'neobvykly pocet plateb' as payment_red_flag\n",
    "    from {catalog}.{gold_schema}.fact_premium_transactions_mask fpt\n",
    "    left join avg_payment_mask ap on fpt.payment_date = ap.payment_date\n",
    "    where fpt.paid_flag = true\n",
    "      and fpt.payment_date is not null\n",
    "    group by fpt.agent_id, ap.avg_cnt\n",
    "    having count(*) > 2 * ap.avg_cnt\n",
    "),\n",
    "\n",
    "agent_totals as (\n",
    "    select\n",
    "        agent_id\n",
    "        , count(*) as payment_count\n",
    "    from {catalog}.{gold_schema}.fact_premium_transactions_mask\n",
    "    where paid_flag = true\n",
    "    group by agent_id\n",
    "),\n",
    "\n",
    "percentile_val as (\n",
    "    select\n",
    "        percentile_approx(payment_count, 0.95) as p95\n",
    "    from agent_totals\n",
    "),\n",
    "\n",
    "unusual_by_volume as (\n",
    "    select distinct\n",
    "        a.agent_id\n",
    "        , 'vyssi objem prijatych platieb' as payment_red_flag\n",
    "    from agent_totals a\n",
    "    join percentile_val p on a.payment_count > p.p95\n",
    "),\n",
    "\n",
    "unusual_by_count as (\n",
    "    select distinct\n",
    "        fp.agent_id\n",
    "        , fp.payment_red_flag\n",
    "    from flagged_payments fp\n",
    ")\n",
    "\n",
    "select \n",
    "    u.agent_id\n",
    "    , da.first_name\n",
    "    , da.last_name\n",
    "    , u.payment_red_flag\n",
    "from unusual_by_count u\n",
    "left join {catalog}.{gold_schema}.dim_agents da on u.agent_id = da.agent_id\n",
    "\n",
    "union\n",
    "\n",
    "select \n",
    "    u.agent_id\n",
    "    , da.first_name\n",
    "    , da.last_name\n",
    "    , u.payment_red_flag\n",
    "from unusual_by_volume u\n",
    "left join {catalog}.{gold_schema}.dim_agents da on u.agent_id = da.agent_id\n",
    "\"\"\")"
   ]
  },
  {
   "cell_type": "code",
   "execution_count": 0,
   "metadata": {
    "application/vnd.databricks.v1+cell": {
     "cellMetadata": {
      "byteLimit": 2048000,
      "rowLimit": 10000
     },
     "inputWidgets": {},
     "nuid": "f7d3eb25-a51c-4032-861a-ab2f6f8e60ae",
     "showTitle": false,
     "tableResultSettingsMap": {},
     "title": ""
    }
   },
   "outputs": [],
   "source": [
    "run_gold_view_queries(gold_view_queries)"
   ]
  }
 ],
 "metadata": {
  "application/vnd.databricks.v1+notebook": {
   "computePreferences": null,
   "dashboards": [],
   "environmentMetadata": {
    "base_environment": "",
    "environment_version": "2"
   },
   "inputWidgetPreferences": null,
   "language": "python",
   "notebookMetadata": {
    "mostRecentlyExecutedCommandWithImplicitDF": {
     "commandId": 4953240151901354,
     "dataframes": [
      "_sqldf"
     ]
    },
    "pythonIndentUnit": 4
   },
   "notebookName": "gold_dlt",
   "widgets": {}
  },
  "language_info": {
   "name": "python"
  }
 },
 "nbformat": 4,
 "nbformat_minor": 0
}
