{
 "cells": [
  {
   "cell_type": "markdown",
   "metadata": {
    "application/vnd.databricks.v1+cell": {
     "cellMetadata": {},
     "inputWidgets": {},
     "nuid": "77596bab-f728-47a3-879e-3e6a1215ec3b",
     "showTitle": false,
     "tableResultSettingsMap": {},
     "title": ""
    }
   },
   "source": [
    "## Common setup"
   ]
  },
  {
   "cell_type": "code",
   "execution_count": 0,
   "metadata": {
    "application/vnd.databricks.v1+cell": {
     "cellMetadata": {
      "byteLimit": 2048000,
      "rowLimit": 10000
     },
     "inputWidgets": {},
     "nuid": "c359079f-09fe-4eec-a621-1c78c676405b",
     "showTitle": false,
     "tableResultSettingsMap": {},
     "title": ""
    }
   },
   "outputs": [],
   "source": [
    "# ——————————————————————————————\n",
    "#  COMMON SETUP\n",
    "# ——————————————————————————————\n",
    "env = spark.conf.get(\"pipeline.env\", \"dev\") \n",
    "catalog = \"principal_lab_db\"\n",
    "silver_schema = f\"{env}_silver\" \n",
    "gold_schema = f\"{env}_gold\"\n",
    "\n",
    "# Katalog\n",
    "spark.sql(f\"USE CATALOG {catalog}\")\n",
    "spark.sql(f\"USE SCHEMA {silver_schema}\")"
   ]
  },
  {
   "cell_type": "markdown",
   "metadata": {
    "application/vnd.databricks.v1+cell": {
     "cellMetadata": {},
     "inputWidgets": {},
     "nuid": "87d88d23-d586-42a8-bee3-5b646490628a",
     "showTitle": false,
     "tableResultSettingsMap": {},
     "title": ""
    }
   },
   "source": [
    "## Agent performance view"
   ]
  },
  {
   "cell_type": "code",
   "execution_count": 0,
   "metadata": {
    "application/vnd.databricks.v1+cell": {
     "cellMetadata": {
      "byteLimit": 2048000,
      "rowLimit": 10000
     },
     "inputWidgets": {},
     "nuid": "b73086d2-a00b-40cd-a396-b90346018de3",
     "showTitle": false,
     "tableResultSettingsMap": {},
     "title": ""
    }
   },
   "outputs": [],
   "source": [
    "# ——————————————————————————————\n",
    "#  CREATE GOLD VIEW\n",
    "# ——————————————————————————————\n",
    "gold_view_sql = f\"\"\"\n",
    "CREATE OR REPLACE VIEW {catalog}.{gold_schema}.agent_performance_view AS\n",
    "SELECT\n",
    "    a.agent_id,\n",
    "    a.first_name,\n",
    "    a.last_name,\n",
    "    COUNT(DISTINCT p.policy_id) AS num_policies,\n",
    "    ROUND(SUM(pt.premium_amount), 2) AS total_premium,\n",
    "    COUNT(DISTINCT c.claim_id) AS num_claims,\n",
    "    ROUND(SUM(c.amount), 2) AS total_claim_amount\n",
    "FROM {catalog}.{silver_schema}.dim_agents a\n",
    "LEFT JOIN {catalog}.{silver_schema}.dim_policies p USING (agent_id)\n",
    "LEFT JOIN {catalog}.{silver_schema}.fact_premium_transactions pt USING (policy_id)\n",
    "LEFT JOIN {catalog}.{silver_schema}.fact_claims c USING (policy_id)\n",
    "GROUP BY a.agent_id, a.first_name, a.last_name\n",
    "\"\"\"\n"
   ]
  },
  {
   "cell_type": "code",
   "execution_count": 0,
   "metadata": {
    "application/vnd.databricks.v1+cell": {
     "cellMetadata": {
      "byteLimit": 2048000,
      "rowLimit": 10000
     },
     "inputWidgets": {},
     "nuid": "f7d3eb25-a51c-4032-861a-ab2f6f8e60ae",
     "showTitle": false,
     "tableResultSettingsMap": {},
     "title": ""
    }
   },
   "outputs": [],
   "source": [
    "#spusť sql viewčka\n",
    "spark.sql(gold_view_sql)"
   ]
  },
  {
   "cell_type": "markdown",
   "metadata": {
    "application/vnd.databricks.v1+cell": {
     "cellMetadata": {},
     "inputWidgets": {},
     "nuid": "f472f922-c243-4ed2-a180-fb588fa2fded",
     "showTitle": false,
     "tableResultSettingsMap": {},
     "title": ""
    }
   },
   "source": [
    "## Customer income distribution"
   ]
  },
  {
   "cell_type": "code",
   "execution_count": 0,
   "metadata": {
    "application/vnd.databricks.v1+cell": {
     "cellMetadata": {
      "byteLimit": 2048000,
      "implicitDf": true,
      "rowLimit": 10000
     },
     "inputWidgets": {},
     "nuid": "80d03005-c54c-41d0-bd69-80aeb04df8c6",
     "showTitle": false,
     "tableResultSettingsMap": {},
     "title": ""
    }
   },
   "outputs": [],
   "source": [
    "gold_view_sql_cust_disti = f\"\"\"\n",
    "create or replace view {catalog}.{gold_schema}.customer_income_distribution AS\n",
    "select  \n",
    "first_name\n",
    ", last_name\n",
    ", email\n",
    ", address\n",
    ", sum(income) as income\n",
    ", case \n",
    "    when sum(income) < 250000 then 'low'\n",
    "    when sum(income) < 1000000 then 'medium'\n",
    "    else 'high' \n",
    "    end as income_level\n",
    "from {catalog}.{gold_schema}.dim_customers\n",
    "where `__END_AT` is null\n",
    "group by all\n",
    "order by income desc\n",
    "\"\"\""
   ]
  },
  {
   "cell_type": "code",
   "execution_count": 0,
   "metadata": {
    "application/vnd.databricks.v1+cell": {
     "cellMetadata": {},
     "inputWidgets": {},
     "nuid": "31bb7c7e-a085-42ca-9e5c-df30112023b9",
     "showTitle": false,
     "tableResultSettingsMap": {},
     "title": ""
    }
   },
   "outputs": [],
   "source": [
    "#spusť sql viewčka\n",
    "spark.sql(gold_view_sql_cust_disti)"
   ]
  },
  {
   "cell_type": "markdown",
   "metadata": {
    "application/vnd.databricks.v1+cell": {
     "cellMetadata": {},
     "inputWidgets": {},
     "nuid": "4c298107-b43f-49b7-a590-8b2e296be173",
     "showTitle": false,
     "tableResultSettingsMap": {},
     "title": ""
    }
   },
   "source": [
    "## Agents analysis"
   ]
  },
  {
   "cell_type": "code",
   "execution_count": 0,
   "metadata": {
    "application/vnd.databricks.v1+cell": {
     "cellMetadata": {},
     "inputWidgets": {},
     "nuid": "79daa027-c5cc-429a-88f4-487b1d0920df",
     "showTitle": false,
     "tableResultSettingsMap": {},
     "title": ""
    }
   },
   "outputs": [],
   "source": [
    "%sql\n",
    "select\n",
    "avg()\n",
    "from principal_lab_db.ondra_test_silver.fact_premium_transactions"
   ]
  },
  {
   "cell_type": "code",
   "execution_count": 0,
   "metadata": {
    "application/vnd.databricks.v1+cell": {
     "cellMetadata": {
      "byteLimit": 2048000,
      "implicitDf": true,
      "rowLimit": 10000
     },
     "inputWidgets": {},
     "nuid": "c98789dd-44e4-48d4-a09a-25b73a14ab37",
     "showTitle": false,
     "tableResultSettingsMap": {},
     "title": ""
    }
   },
   "outputs": [],
   "source": [
    "%sql\n",
    "with sub as (\n",
    "select\n",
    "    agent_id,\n",
    "    payment_date,\n",
    "    COUNT(*) AS payment_count\n",
    "from principal_lab_db.ondra_test_silver.fact_premium_transactions\n",
    "WHERE\n",
    "    paid_flag = TRUE\n",
    "    AND payment_date IS NOT NULL\n",
    "GROUP BY\n",
    "    agent_id\n",
    "    , payment_date\n",
    "ORDER BY\n",
    "    agent_id\n",
    "    , payment_date\n",
    ")\n",
    "select\n",
    "payment_date\n",
    ", avg(payment_count)\n",
    "from sub\n",
    "group by payment_date"
   ]
  },
  {
   "cell_type": "code",
   "execution_count": 0,
   "metadata": {
    "application/vnd.databricks.v1+cell": {
     "cellMetadata": {},
     "inputWidgets": {},
     "nuid": "e680a193-3e41-4f9e-b232-8ff9a048f777",
     "showTitle": false,
     "tableResultSettingsMap": {},
     "title": ""
    }
   },
   "outputs": [],
   "source": []
  }
 ],
 "metadata": {
  "application/vnd.databricks.v1+notebook": {
   "computePreferences": null,
   "dashboards": [],
   "environmentMetadata": {
    "base_environment": "",
    "environment_version": "2"
   },
   "inputWidgetPreferences": null,
   "language": "python",
   "notebookMetadata": {
    "mostRecentlyExecutedCommandWithImplicitDF": {
     "commandId": 8380938462602519,
     "dataframes": [
      "_sqldf"
     ]
    },
    "pythonIndentUnit": 4
   },
   "notebookName": "gold_dlt",
   "widgets": {}
  },
  "language_info": {
   "name": "python"
  }
 },
 "nbformat": 4,
 "nbformat_minor": 0
}
