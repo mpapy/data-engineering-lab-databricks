{
 "cells": [
  {
   "cell_type": "code",
   "execution_count": 0,
   "metadata": {
    "application/vnd.databricks.v1+cell": {
     "cellMetadata": {},
     "inputWidgets": {},
     "nuid": "401e2381-903f-48cf-ad33-eaa3951f4465",
     "showTitle": false,
     "tableResultSettingsMap": {},
     "title": ""
    }
   },
   "outputs": [],
   "source": [
    "import dlt\n",
    "from pyspark.sql.functions import col\n",
    "\n",
    "# Set the catalog and schema to the target (Silver) database\n",
    "spark.sql(\"USE CATALOG principal_lab_db\")\n",
    "spark.sql(\"USE SCHEMA dev_silver\")\n",
    "\n",
    "# Load table metadata for dim_policies from config_dev.table_lookup\n",
    "config = spark.table(\"principal_lab_db.config_dev.table_lookup\") \\\n",
    "    .filter(col(\"table_name\") == \"dim_policies\") \\\n",
    "    .select(\"keys\", \"scd_type\", \"description\") \\\n",
    "    .first()\n",
    "# Extract configuration values\n",
    "keys = config[\"keys\"]              # list of key column names\n",
    "scd_type = int(config[\"scd_type\"]) # SCD type (expected 2 for Type 2)\n",
    "dim_description = config[\"description\"]\n",
    "\n",
    "@dlt.view(name=\"policies_clean\")\n",
    "def policies_clean():\n",
    "    # Read the Bronze snapshot table as a streaming DataFrame\n",
    "    bronze_df = spark.readStream.table(\"principal_lab_db.dev_bronze.policies_bronze\")\n",
    "    # Apply any required cleaning or transformations (not shown for brevity)\n",
    "    return bronze_df\n",
    "\n",
    "# Create the target Silver dimension table\n",
    "dlt.create_streaming_table(\n",
    "    name=\"dim_policies\",\n",
    "    comment=dim_description,\n",
    "    table_properties={\"quality\": \"silver\"}\n",
    ")\n",
    "\n",
    "# Apply SCD Type 2 changes from the source view to the target table\n",
    "dlt.apply_changes(\n",
    "    target=\"dim_policies\",\n",
    "    source=\"policies_clean\",\n",
    "    keys=keys,\n",
    "    sequence_by=col(\"snapshot_date\"),\n",
    "    stored_as_scd_type=scd_type,  # use 2 for SCD Type 2\n",
    "    track_history_except_column_list=[\"ingestion_ts\", \"source_file\", \"snapshot_date\"]\n",
    ")\n"
   ]
  }
 ],
 "metadata": {
  "application/vnd.databricks.v1+notebook": {
   "computePreferences": null,
   "dashboards": [],
   "environmentMetadata": {
    "base_environment": "",
    "environment_version": "2"
   },
   "inputWidgetPreferences": null,
   "language": "python",
   "notebookMetadata": {
    "pythonIndentUnit": 4
   },
   "notebookName": "silver_dlt",
   "widgets": {}
  },
  "language_info": {
   "name": "python"
  }
 },
 "nbformat": 4,
 "nbformat_minor": 0
}
