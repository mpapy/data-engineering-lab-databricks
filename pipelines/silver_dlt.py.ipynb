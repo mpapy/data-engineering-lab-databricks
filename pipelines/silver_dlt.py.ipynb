{
 "cells": [
  {
   "cell_type": "code",
   "execution_count": 0,
   "metadata": {
    "application/vnd.databricks.v1+cell": {
     "cellMetadata": {},
     "inputWidgets": {},
     "nuid": "49f99bd4-5a2e-447f-873d-1a9b521b31c8",
     "showTitle": false,
     "tableResultSettingsMap": {},
     "title": ""
    }
   },
   "outputs": [],
   "source": [
    "import dlt\n",
    "import json\n",
    "from pyspark.sql.functions import col\n",
    "\n",
    "# Zmapování katalogu a schématu\n",
    "spark.sql(\"USE CATALOG principal_lab_db\")\n",
    "spark.sql(\"USE SCHEMA dev_silver\")\n",
    "\n",
    "# Načtu si metadata z lookup tabulky\n",
    "config = spark.table(\"principal_lab_db.config_dev.table_lookup\") \\\n",
    "    .filter(col(\"table_name\") == \"dim_policies\") \\\n",
    "    .select(\"keys\", \"scd_type\", \"description\") \\\n",
    "    .first()\n",
    "\n",
    "# Parsování dat\n",
    "keys_raw = config[\"keys\"]\n",
    "scd_type_raw = config[\"scd_type\"]\n",
    "description = config[\"description\"]\n",
    "\n",
    "# Pokud je 'keys' uložen jako JSON = parsování\n",
    "if isinstance(keys_raw, str):\n",
    "    business_keys = json.loads(keys_raw)\n",
    "else:\n",
    "    business_keys = keys_raw\n",
    "\n",
    "# Mapování - potřebuji INT\n",
    "scd_type_map = {\n",
    "    \"SCD1\": 1,\n",
    "    \"SCD2\": 2,\n",
    "    \"1\": 1,\n",
    "    \"2\": 2,\n",
    "    None: 0,\n",
    "    \"\": 0\n",
    "}\n",
    "scd_type = scd_type_map.get(str(scd_type_raw).upper(), 0)\n",
    "\n",
    "print(f\"Business Keys: {business_keys}\")\n",
    "print(f\"SCD Type: {scd_type}\")\n",
    "\n",
    "# Vytvořím si view před napočtení SCD2\n",
    "@dlt.view(name=\"policies_bronze_clean\")\n",
    "def policies_bronze_clean():\n",
    "    return spark.readStream.table(\"principal_lab_db.dev_bronze.policies_bronze\")\n",
    "\n",
    "# Vytvoření Silver tabulky jako SCD2\n",
    "if scd_type == 2:\n",
    "    dlt.create_streaming_table(\n",
    "        name=\"dim_policies\",\n",
    "        comment=description,\n",
    "        table_properties={\"quality\": \"silver\"}\n",
    "    )\n",
    "\n",
    "    dlt.apply_changes(\n",
    "        target=\"dim_policies\",\n",
    "        source=\"policies_bronze_clean\",\n",
    "        keys=business_keys,\n",
    "        sequence_by=col(\"snapshot_date\"),\n",
    "        ignore_null_updates=False,\n",
    "        stored_as_scd_type=\"2\",\n",
    "        track_history_except_column_list=[\"ingestion_ts\", \"source_file\", \"snapshot_date\"]\n",
    "    )\n",
    "else:\n",
    "    raise ValueError(f\"Unsupported or missing SCD type: {scd_type_raw}\")\n"
   ]
  }
 ],
 "metadata": {
  "application/vnd.databricks.v1+notebook": {
   "computePreferences": null,
   "dashboards": [],
   "environmentMetadata": {
    "base_environment": "",
    "environment_version": "2"
   },
   "inputWidgetPreferences": null,
   "language": "python",
   "notebookMetadata": {
    "pythonIndentUnit": 4
   },
   "notebookName": "silver_dlt.py",
   "widgets": {}
  },
  "language_info": {
   "name": "python"
  }
 },
 "nbformat": 4,
 "nbformat_minor": 0
}
