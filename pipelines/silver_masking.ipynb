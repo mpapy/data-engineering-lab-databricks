{
 "cells": [
  {
   "cell_type": "code",
   "execution_count": 0,
   "metadata": {
    "application/vnd.databricks.v1+cell": {
     "cellMetadata": {
      "byteLimit": 2048000,
      "rowLimit": 10000
     },
     "inputWidgets": {},
     "nuid": "e3618492-5ffb-4b7f-a337-6126cab73baf",
     "showTitle": false,
     "tableResultSettingsMap": {},
     "title": ""
    }
   },
   "outputs": [],
   "source": [
    "# ——————————————————————————————\n",
    "#  COMMON SETUP\n",
    "# ——————————————————————————————\n",
    "# dbutils.widgets.text(\"pipeline_env\", \"ondra_test\")\n",
    "# env = dbutils.widgets.get(\"pipeline_env\")\n",
    "env = dbutils.widgets.get(\"pipeline.env\")\n",
    "print(f\"Job environment: {env}\")\n",
    "catalog       = \"principal_lab_db\"\n",
    "bronze_schema = f\"{env}_bronze\"\n",
    "silver_schema = f\"{env}_silver\"\n",
    "spark.sql(f\"USE CATALOG {catalog}\")\n",
    "spark.sql(f\"USE SCHEMA {silver_schema}\")"
   ]
  },
  {
   "cell_type": "code",
   "execution_count": 0,
   "metadata": {
    "application/vnd.databricks.v1+cell": {
     "cellMetadata": {
      "byteLimit": 2048000,
      "rowLimit": 10000
     },
     "inputWidgets": {},
     "nuid": "6017e276-20e6-47de-9726-127ab3ee8b19",
     "showTitle": false,
     "tableResultSettingsMap": {},
     "title": ""
    }
   },
   "outputs": [],
   "source": [
    "# ————————————————————————————————————————————————\n",
    "# FINAL NON-STREAMING TABULKY PRO STREAMING\n",
    "# ————————————————————————————————————————————————\n",
    "\n",
    "def promote_to_batch_table(table_name: str):\n",
    "    \"\"\"\n",
    "    Funkce vytváří nové tabulky ze silver tabulek.\n",
    "    \"\"\"\n",
    "    source_path = f\"{catalog}.{silver_schema}.{table_name}\"\n",
    "    target_path = f\"{catalog}.{silver_schema}.{table_name}_mask\"\n",
    "    \n",
    "    (\n",
    "        spark.read.table(source_path)\n",
    "             .write\n",
    "             .mode('overwrite')\n",
    "             .option('overwriteSchema', 'true')\n",
    "             .saveAsTable(target_path)\n",
    "    )\n",
    "\n",
    "# Seznam tabulek pro maskování\n",
    "tables_to_promote = [\n",
    "    'dim_agents',\n",
    "    'dim_customers',\n",
    "    'dim_policies',\n",
    "    'dim_products',\n",
    "    'fact_claims',\n",
    "    'fact_premium_transactions'\n",
    "]\n",
    "\n",
    "for table in tables_to_promote:\n",
    "    promote_to_batch_table(table)"
   ]
  }
 ],
 "metadata": {
  "application/vnd.databricks.v1+notebook": {
   "computePreferences": null,
   "dashboards": [],
   "environmentMetadata": {
    "base_environment": "",
    "environment_version": "2"
   },
   "inputWidgetPreferences": null,
   "language": "python",
   "notebookMetadata": {
    "pythonIndentUnit": 4
   },
   "notebookName": "silver_masking",
   "widgets": {}
  },
  "language_info": {
   "name": "python"
  }
 },
 "nbformat": 4,
 "nbformat_minor": 0
}
