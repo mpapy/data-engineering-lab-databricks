{
 "cells": [
  {
   "cell_type": "code",
   "execution_count": 0,
   "metadata": {
    "application/vnd.databricks.v1+cell": {
     "cellMetadata": {},
     "inputWidgets": {},
     "nuid": "51259d31-0486-4ce6-ae64-86db6919d925",
     "showTitle": false,
     "tableResultSettingsMap": {},
     "title": ""
    }
   },
   "outputs": [],
   "source": [
    "from pyspark.sql.types import StringType,IntegerType,StructType, StructField\n",
    "\n",
    "#prostredi \n",
    "env = 'env'\n",
    "\n",
    "#expectations data\n",
    "expectation_data = [\n",
    "    (1,\"customers\",\"valid_last_name\",\"last_name IS NOT NULL\"),\n",
    "    (2,\"customers\",\"valid_income\",\"income > 0\"),\n",
    "    (3,\"customers\",\"valid_snapshot_date\",\"snapshot_date IS NOT NULL\"),\n",
    "    (4,\"agents\",\"valid_last_name\",\"last_name IS NOT NULL\"),\n",
    "    (5,\"agents\",\"valid_region\",\"region IS NOT NULL\"),\n",
    "    (6,\"agents\",\"valid_snapshot_date\",\"snapshot_date IS NOT NULL\"),\n",
    "    (7,\"policies\",\"valid_policy_id\",\"policy_id IS NOT NULL\"),\n",
    "    (8,\"policies\",\"valid_agent_id\",\"agent_id  IS NOT NULL\"),\n",
    "    (9,\"policies\",\"valid_customer_id\",\"customer_id IS NOT NULL\"),\n",
    "    (10,\"policies\",\"valid_product_id\",\"product_id IS NOT NULL\"),\n",
    "    (11,\"policies\",\"valid_snapshot\",\"snapshot_date IS NOT NULL\"),\n",
    "    (12,\"policies\",\"positive_premium\",\"premium > 0\"),\n",
    "    (13,\"fact_claim\",\"valid_claim_id\",\"claim_id IS NOT NULL\"),\n",
    "    (14,\"fact_claim\",\"valid_policy_id\", \"policy_id IS NOT NULL\"),\n",
    "    (15,\"fact_claim\",\"valid_agent_id\",\"agent_id IS NOT NULL\"),\n",
    "    (16,\"fact_claim\",\"positive_amount\",\"amount > 0\"),\n",
    "    (17,\"fact_claim\",\"valid_claim_date\",\"claim_date IS NOT NULL AND claim_date = CAST(CAST(claim_date AS STRING) AS DATE)\"),\n",
    "    (18,\"fact_premium_transactions\",\"valid_premium_txn_id\",\"premium_txn_id IS NOT NULL\"),\n",
    "    (19,\"fact_premium_transactions\",\"valid_policy_id\",\"policy_id IS NOT NULL\"),\n",
    "    (20,\"fact_premium_transactions\",\"valid_agent_id\",\"agent_id IS NOT NULL\"),\n",
    "    (21,\"fact_premium_transactions\",\"positive_premium_amount\",\"premium_amount > 0\"),\n",
    "    (22,\"fact_premium_transactions\",\"valid_due_date\",\"due_date IS NOT NULL AND due_date = CAST(CAST(due_date AS STRING) AS DATE)\"),\n",
    "    (23,\"fact_premium_transactions\",\"valid_paid_flag\",\"paid_flag IS NOT NULL\"),\n",
    "    (24,\"fact_premium_transactions\",\"valid_payment_date\",\"paid_flag = FALSE OR (paid_flag = TRUE AND payment_date IS NOT NULL AND payment_date = CAST(CAST(payment_date AS STRING) AS DATE))\"),\n",
    "    (25,\"fact_premium_transactions\",\"valid_snap_date\",\"snapshot_date IS NOT NULL AND snapshot_date = CAST(CAST(snapshot_date AS STRING) AS DATE)\")\n",
    "]\n",
    "\n",
    "#schema expectations setup tabulky\n",
    "schema = StructType([\n",
    "    StructField(\"expectation_id\", IntegerType(), False),\n",
    "    StructField(\"table_name\", StringType(), False),\n",
    "    StructField(\"expectation_name\", StringType(), False),\n",
    "    StructField(\"expectation_value\", StringType(), False)\n",
    "])\n",
    "\n",
    "#vytvoreni dataframe \n",
    "df_expectation = spark.createDataFrame(expectation_data, schema)\n",
    "\n",
    "# vytvoreni tabulky do spravneho prostredi,tj. bud dev nebo prod config!!!\n",
    "config_schema = f\"config_{env}\"\n",
    "output_path = f\"principal_lab_db.{config_schema}.expectations_setup\"\n",
    "df_expectation.write.format(\"delta\").mode(\"overwrite\").saveAsTable(output_path)\n",
    "\n",
    "print(f\"expectation setup tabulka byla vytvořena jako {output_path}\")"
   ]
  }
 ],
 "metadata": {
  "application/vnd.databricks.v1+notebook": {
   "computePreferences": null,
   "dashboards": [],
   "environmentMetadata": {
    "base_environment": "",
    "environment_version": "2"
   },
   "inputWidgetPreferences": null,
   "language": "python",
   "notebookMetadata": {
    "pythonIndentUnit": 4
   },
   "notebookName": "expectations_setup_table",
   "widgets": {}
  },
  "language_info": {
   "name": "python"
  }
 },
 "nbformat": 4,
 "nbformat_minor": 0
}
