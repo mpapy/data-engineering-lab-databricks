{
 "cells": [
  {
   "cell_type": "code",
   "execution_count": 0,
   "metadata": {
    "application/vnd.databricks.v1+cell": {
     "cellMetadata": {},
     "inputWidgets": {},
     "nuid": "51259d31-0486-4ce6-ae64-86db6919d925",
     "showTitle": false,
     "tableResultSettingsMap": {},
     "title": ""
    }
   },
   "outputs": [],
   "source": [
    "from pyspark.sql.types import StringType,IntegerType,StructType, StructField\n",
    "\n",
    "#prostredi \n",
    "env = 'env'\n",
    "\n",
    "#expectations data\n",
    "expectation_data = [\n",
    "    (1,\"customers\",\"valid_last_name\",\"last_name IS NOT NULL\"),\n",
    "    (2,\"customers\",\"valid_income\",\"income > 0\"),\n",
    "    (3,\"agents\",\"valid_last_name\",\"last_name IS NOT NULL\"),\n",
    "    (4,\"agents\",\"valid_region\",\"region IS NOT NULL\")\n",
    "]\n",
    "\n",
    "#schema expectations setup tabulky\n",
    "schema = StructType([\n",
    "    StructField(\"expectation_id\", IntegerType(), False),\n",
    "    StructField(\"table_name\", StringType(), False),\n",
    "    StructField(\"expectation_name\", StringType(), False),\n",
    "    StructField(\"expectation_value\", StringType(), False)\n",
    "])\n",
    "\n",
    "#vytvoreni dataframe \n",
    "df_expectation = spark.createDataFrame(expectation_data, schema)\n",
    "\n",
    "# vytvoreni tabulky do spravneho prostredi,tj. bud dev nebo prod config!!!\n",
    "config_schema = f\"config_{env}\"\n",
    "output_path = f\"principal_lab_db.{config_schema}.expectations_setup\"\n",
    "df_expectation.write.format(\"delta\").mode(\"overwrite\").saveAsTable(output_path)\n",
    "\n",
    "print(f\"expectation setup tabulka byla vytvořena jako {output_path}\")"
   ]
  }
 ],
 "metadata": {
  "application/vnd.databricks.v1+notebook": {
   "computePreferences": null,
   "dashboards": [],
   "environmentMetadata": {
    "base_environment": "",
    "environment_version": "2"
   },
   "inputWidgetPreferences": null,
   "language": "python",
   "notebookMetadata": {
    "pythonIndentUnit": 4
   },
   "notebookName": "expectations_setup_table",
   "widgets": {}
  },
  "language_info": {
   "name": "python"
  }
 },
 "nbformat": 4,
 "nbformat_minor": 0
}
